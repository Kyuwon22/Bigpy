{
 "cells": [
  {
   "cell_type": "code",
   "execution_count": null,
   "id": "3b6daa4b-032d-4632-b3d0-532c99e23036",
   "metadata": {},
   "outputs": [],
   "source": [
    "#d열심히 공부했어요"
   ]
  }
 ],
 "metadata": {
  "kernelspec": {
   "display_name": "geeclass",
   "language": "python",
   "name": "gee"
  },
  "language_info": {
   "codemirror_mode": {
    "name": "ipython",
    "version": 3
   },
   "file_extension": ".py",
   "mimetype": "text/x-python",
   "name": "python",
   "nbconvert_exporter": "python",
   "pygments_lexer": "ipython3",
   "version": "3.12.2"
  }
 },
 "nbformat": 4,
 "nbformat_minor": 5
}
